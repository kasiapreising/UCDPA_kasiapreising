{
 "cells": [
  {
   "cell_type": "code",
   "execution_count": 1,
   "id": "46c1dc61",
   "metadata": {},
   "outputs": [],
   "source": [
    "# Libraries "
   ]
  },
  {
   "cell_type": "code",
   "execution_count": 2,
   "id": "41a7c88c",
   "metadata": {},
   "outputs": [],
   "source": [
    "import pandas as pd"
   ]
  },
  {
   "cell_type": "code",
   "execution_count": 3,
   "id": "6fb257f1",
   "metadata": {},
   "outputs": [],
   "source": [
    "import numpy as np"
   ]
  },
  {
   "cell_type": "code",
   "execution_count": 4,
   "id": "97a42815",
   "metadata": {},
   "outputs": [],
   "source": [
    "import requests"
   ]
  },
  {
   "cell_type": "code",
   "execution_count": 6,
   "id": "86d0e6b0",
   "metadata": {},
   "outputs": [],
   "source": [
    "import io"
   ]
  },
  {
   "cell_type": "code",
   "execution_count": 7,
   "id": "eae42c69",
   "metadata": {},
   "outputs": [],
   "source": [
    "import datetime"
   ]
  },
  {
   "cell_type": "code",
   "execution_count": 8,
   "id": "0958f52a",
   "metadata": {},
   "outputs": [],
   "source": [
    "import matplotlib.pyplot as plt"
   ]
  },
  {
   "cell_type": "code",
   "execution_count": 9,
   "id": "002a369c",
   "metadata": {},
   "outputs": [],
   "source": [
    "import seaborn as sns"
   ]
  },
  {
   "cell_type": "code",
   "execution_count": 10,
   "id": "06d2db4c",
   "metadata": {},
   "outputs": [],
   "source": [
    "# adding file directly "
   ]
  },
  {
   "cell_type": "code",
   "execution_count": 21,
   "id": "ff31c29c",
   "metadata": {},
   "outputs": [],
   "source": [
    "df=pd.read_csv('AAPL.csv')"
   ]
  },
  {
   "cell_type": "code",
   "execution_count": 12,
   "id": "f1118a0e",
   "metadata": {},
   "outputs": [],
   "source": [
    "# adding file from GitHub account username for token"
   ]
  },
  {
   "cell_type": "code",
   "execution_count": 13,
   "id": "f0dc17e1",
   "metadata": {},
   "outputs": [],
   "source": [
    "username='kasiapreising'"
   ]
  },
  {
   "cell_type": "code",
   "execution_count": 14,
   "id": "aaf9080b",
   "metadata": {},
   "outputs": [],
   "source": [
    "token='GHSAT0AAAAAABY4LGWL3XROIHNWBMZH25L2YZHSWIA'"
   ]
  },
  {
   "cell_type": "code",
   "execution_count": 15,
   "id": "c785d684",
   "metadata": {},
   "outputs": [],
   "source": [
    "github_session=requests.Session()"
   ]
  },
  {
   "cell_type": "code",
   "execution_count": 16,
   "id": "90f90584",
   "metadata": {},
   "outputs": [],
   "source": [
    "url='https://raw.githubusercontent.com/kasiapreising/UCDPA_kasiapreising/main/AAPL.csv?token=GHSAT0AAAAAABY4LGWKDQGYAFUAKK3XE472YZHU4KQ' "
   ]
  },
  {
   "cell_type": "code",
   "execution_count": 17,
   "id": "fb2a6884",
   "metadata": {},
   "outputs": [],
   "source": [
    "download=github_session.get(url).content"
   ]
  },
  {
   "cell_type": "code",
   "execution_count": 18,
   "id": "8564b05d",
   "metadata": {},
   "outputs": [],
   "source": [
    "#reading the content making dataframe"
   ]
  },
  {
   "cell_type": "code",
   "execution_count": 19,
   "id": "38856eb0",
   "metadata": {},
   "outputs": [],
   "source": [
    "df=pd.read_csv(io.StringIO(download.decode('utf-8')))"
   ]
  },
  {
   "cell_type": "code",
   "execution_count": 22,
   "id": "36c265e8",
   "metadata": {},
   "outputs": [
    {
     "name": "stdout",
     "output_type": "stream",
     "text": [
      "         Date        Open        High         Low       Close   Adj Close  \\\n",
      "0  2021-09-20  143.800003  144.839996  141.270004  142.940002  142.143494   \n",
      "1  2021-09-21  143.929993  144.600006  142.779999  143.429993  142.630737   \n",
      "2  2021-09-22  144.449997  146.429993  143.699997  145.850006  145.037292   \n",
      "3  2021-09-23  146.649994  147.080002  145.639999  146.830002  146.011810   \n",
      "4  2021-09-24  145.660004  147.470001  145.559998  146.919998  146.101318   \n",
      "\n",
      "      Volume  \n",
      "0  123478900  \n",
      "1   75834000  \n",
      "2   76404300  \n",
      "3   64838200  \n",
      "4   53477900  \n"
     ]
    }
   ],
   "source": [
    "print(df.head())"
   ]
  },
  {
   "cell_type": "code",
   "execution_count": 23,
   "id": "7cc82324",
   "metadata": {},
   "outputs": [
    {
     "name": "stdout",
     "output_type": "stream",
     "text": [
      "<class 'pandas.core.frame.DataFrame'>\n",
      "RangeIndex: 251 entries, 0 to 250\n",
      "Data columns (total 7 columns):\n",
      " #   Column     Non-Null Count  Dtype  \n",
      "---  ------     --------------  -----  \n",
      " 0   Date       251 non-null    object \n",
      " 1   Open       251 non-null    float64\n",
      " 2   High       251 non-null    float64\n",
      " 3   Low        251 non-null    float64\n",
      " 4   Close      251 non-null    float64\n",
      " 5   Adj Close  251 non-null    float64\n",
      " 6   Volume     251 non-null    int64  \n",
      "dtypes: float64(5), int64(1), object(1)\n",
      "memory usage: 13.9+ KB\n"
     ]
    }
   ],
   "source": [
    "df.info()"
   ]
  },
  {
   "cell_type": "code",
   "execution_count": 24,
   "id": "f1277436",
   "metadata": {},
   "outputs": [
    {
     "data": {
      "text/plain": [
       "pandas.core.frame.DataFrame"
      ]
     },
     "execution_count": 24,
     "metadata": {},
     "output_type": "execute_result"
    }
   ],
   "source": [
    "type(df)"
   ]
  },
  {
   "cell_type": "code",
   "execution_count": 25,
   "id": "0ac50194",
   "metadata": {},
   "outputs": [],
   "source": [
    "pd.set_option(\"display.max.columns\",None)"
   ]
  },
  {
   "cell_type": "code",
   "execution_count": 26,
   "id": "73bd1ac2",
   "metadata": {},
   "outputs": [],
   "source": [
    "#checking values and sorting data"
   ]
  },
  {
   "cell_type": "code",
   "execution_count": 27,
   "id": "01714730",
   "metadata": {},
   "outputs": [
    {
     "data": {
      "text/html": [
       "<div>\n",
       "<style scoped>\n",
       "    .dataframe tbody tr th:only-of-type {\n",
       "        vertical-align: middle;\n",
       "    }\n",
       "\n",
       "    .dataframe tbody tr th {\n",
       "        vertical-align: top;\n",
       "    }\n",
       "\n",
       "    .dataframe thead th {\n",
       "        text-align: right;\n",
       "    }\n",
       "</style>\n",
       "<table border=\"1\" class=\"dataframe\">\n",
       "  <thead>\n",
       "    <tr style=\"text-align: right;\">\n",
       "      <th></th>\n",
       "      <th>Date</th>\n",
       "      <th>Open</th>\n",
       "      <th>High</th>\n",
       "      <th>Low</th>\n",
       "      <th>Close</th>\n",
       "      <th>Adj Close</th>\n",
       "      <th>Volume</th>\n",
       "    </tr>\n",
       "  </thead>\n",
       "  <tbody>\n",
       "    <tr>\n",
       "      <th>0</th>\n",
       "      <td>2021-09-20</td>\n",
       "      <td>143.800003</td>\n",
       "      <td>144.839996</td>\n",
       "      <td>141.270004</td>\n",
       "      <td>142.940002</td>\n",
       "      <td>142.143494</td>\n",
       "      <td>123478900</td>\n",
       "    </tr>\n",
       "    <tr>\n",
       "      <th>1</th>\n",
       "      <td>2021-09-21</td>\n",
       "      <td>143.929993</td>\n",
       "      <td>144.600006</td>\n",
       "      <td>142.779999</td>\n",
       "      <td>143.429993</td>\n",
       "      <td>142.630737</td>\n",
       "      <td>75834000</td>\n",
       "    </tr>\n",
       "    <tr>\n",
       "      <th>2</th>\n",
       "      <td>2021-09-22</td>\n",
       "      <td>144.449997</td>\n",
       "      <td>146.429993</td>\n",
       "      <td>143.699997</td>\n",
       "      <td>145.850006</td>\n",
       "      <td>145.037292</td>\n",
       "      <td>76404300</td>\n",
       "    </tr>\n",
       "    <tr>\n",
       "      <th>3</th>\n",
       "      <td>2021-09-23</td>\n",
       "      <td>146.649994</td>\n",
       "      <td>147.080002</td>\n",
       "      <td>145.639999</td>\n",
       "      <td>146.830002</td>\n",
       "      <td>146.011810</td>\n",
       "      <td>64838200</td>\n",
       "    </tr>\n",
       "    <tr>\n",
       "      <th>4</th>\n",
       "      <td>2021-09-24</td>\n",
       "      <td>145.660004</td>\n",
       "      <td>147.470001</td>\n",
       "      <td>145.559998</td>\n",
       "      <td>146.919998</td>\n",
       "      <td>146.101318</td>\n",
       "      <td>53477900</td>\n",
       "    </tr>\n",
       "  </tbody>\n",
       "</table>\n",
       "</div>"
      ],
      "text/plain": [
       "         Date        Open        High         Low       Close   Adj Close  \\\n",
       "0  2021-09-20  143.800003  144.839996  141.270004  142.940002  142.143494   \n",
       "1  2021-09-21  143.929993  144.600006  142.779999  143.429993  142.630737   \n",
       "2  2021-09-22  144.449997  146.429993  143.699997  145.850006  145.037292   \n",
       "3  2021-09-23  146.649994  147.080002  145.639999  146.830002  146.011810   \n",
       "4  2021-09-24  145.660004  147.470001  145.559998  146.919998  146.101318   \n",
       "\n",
       "      Volume  \n",
       "0  123478900  \n",
       "1   75834000  \n",
       "2   76404300  \n",
       "3   64838200  \n",
       "4   53477900  "
      ]
     },
     "execution_count": 27,
     "metadata": {},
     "output_type": "execute_result"
    }
   ],
   "source": [
    "df.head()"
   ]
  },
  {
   "cell_type": "code",
   "execution_count": 28,
   "id": "23a84edd",
   "metadata": {},
   "outputs": [
    {
     "data": {
      "text/html": [
       "<div>\n",
       "<style scoped>\n",
       "    .dataframe tbody tr th:only-of-type {\n",
       "        vertical-align: middle;\n",
       "    }\n",
       "\n",
       "    .dataframe tbody tr th {\n",
       "        vertical-align: top;\n",
       "    }\n",
       "\n",
       "    .dataframe thead th {\n",
       "        text-align: right;\n",
       "    }\n",
       "</style>\n",
       "<table border=\"1\" class=\"dataframe\">\n",
       "  <thead>\n",
       "    <tr style=\"text-align: right;\">\n",
       "      <th></th>\n",
       "      <th>Date</th>\n",
       "      <th>Open</th>\n",
       "      <th>High</th>\n",
       "      <th>Low</th>\n",
       "      <th>Close</th>\n",
       "      <th>Adj Close</th>\n",
       "      <th>Volume</th>\n",
       "    </tr>\n",
       "  </thead>\n",
       "  <tbody>\n",
       "    <tr>\n",
       "      <th>246</th>\n",
       "      <td>2022-09-12</td>\n",
       "      <td>159.589996</td>\n",
       "      <td>164.259995</td>\n",
       "      <td>159.300003</td>\n",
       "      <td>163.429993</td>\n",
       "      <td>163.429993</td>\n",
       "      <td>104956000</td>\n",
       "    </tr>\n",
       "    <tr>\n",
       "      <th>247</th>\n",
       "      <td>2022-09-13</td>\n",
       "      <td>159.899994</td>\n",
       "      <td>160.539993</td>\n",
       "      <td>153.369995</td>\n",
       "      <td>153.839996</td>\n",
       "      <td>153.839996</td>\n",
       "      <td>122656600</td>\n",
       "    </tr>\n",
       "    <tr>\n",
       "      <th>248</th>\n",
       "      <td>2022-09-14</td>\n",
       "      <td>154.789993</td>\n",
       "      <td>157.100006</td>\n",
       "      <td>153.610001</td>\n",
       "      <td>155.309998</td>\n",
       "      <td>155.309998</td>\n",
       "      <td>87965400</td>\n",
       "    </tr>\n",
       "    <tr>\n",
       "      <th>249</th>\n",
       "      <td>2022-09-15</td>\n",
       "      <td>154.649994</td>\n",
       "      <td>155.240005</td>\n",
       "      <td>151.380005</td>\n",
       "      <td>152.369995</td>\n",
       "      <td>152.369995</td>\n",
       "      <td>90481100</td>\n",
       "    </tr>\n",
       "    <tr>\n",
       "      <th>250</th>\n",
       "      <td>2022-09-16</td>\n",
       "      <td>151.210007</td>\n",
       "      <td>151.350006</td>\n",
       "      <td>148.369995</td>\n",
       "      <td>150.699997</td>\n",
       "      <td>150.699997</td>\n",
       "      <td>162157000</td>\n",
       "    </tr>\n",
       "  </tbody>\n",
       "</table>\n",
       "</div>"
      ],
      "text/plain": [
       "           Date        Open        High         Low       Close   Adj Close  \\\n",
       "246  2022-09-12  159.589996  164.259995  159.300003  163.429993  163.429993   \n",
       "247  2022-09-13  159.899994  160.539993  153.369995  153.839996  153.839996   \n",
       "248  2022-09-14  154.789993  157.100006  153.610001  155.309998  155.309998   \n",
       "249  2022-09-15  154.649994  155.240005  151.380005  152.369995  152.369995   \n",
       "250  2022-09-16  151.210007  151.350006  148.369995  150.699997  150.699997   \n",
       "\n",
       "        Volume  \n",
       "246  104956000  \n",
       "247  122656600  \n",
       "248   87965400  \n",
       "249   90481100  \n",
       "250  162157000  "
      ]
     },
     "execution_count": 28,
     "metadata": {},
     "output_type": "execute_result"
    }
   ],
   "source": [
    "df.tail()"
   ]
  },
  {
   "cell_type": "code",
   "execution_count": 29,
   "id": "da7fed52",
   "metadata": {},
   "outputs": [
    {
     "data": {
      "text/html": [
       "<div>\n",
       "<style scoped>\n",
       "    .dataframe tbody tr th:only-of-type {\n",
       "        vertical-align: middle;\n",
       "    }\n",
       "\n",
       "    .dataframe tbody tr th {\n",
       "        vertical-align: top;\n",
       "    }\n",
       "\n",
       "    .dataframe thead th {\n",
       "        text-align: right;\n",
       "    }\n",
       "</style>\n",
       "<table border=\"1\" class=\"dataframe\">\n",
       "  <thead>\n",
       "    <tr style=\"text-align: right;\">\n",
       "      <th></th>\n",
       "      <th>Open</th>\n",
       "      <th>High</th>\n",
       "      <th>Low</th>\n",
       "      <th>Close</th>\n",
       "      <th>Adj Close</th>\n",
       "      <th>Volume</th>\n",
       "    </tr>\n",
       "  </thead>\n",
       "  <tbody>\n",
       "    <tr>\n",
       "      <th>count</th>\n",
       "      <td>251.000000</td>\n",
       "      <td>251.000000</td>\n",
       "      <td>251.000000</td>\n",
       "      <td>251.000000</td>\n",
       "      <td>251.000000</td>\n",
       "      <td>2.510000e+02</td>\n",
       "    </tr>\n",
       "    <tr>\n",
       "      <th>mean</th>\n",
       "      <td>158.272550</td>\n",
       "      <td>160.306534</td>\n",
       "      <td>156.423386</td>\n",
       "      <td>158.449522</td>\n",
       "      <td>157.999954</td>\n",
       "      <td>8.839530e+07</td>\n",
       "    </tr>\n",
       "    <tr>\n",
       "      <th>std</th>\n",
       "      <td>12.619554</td>\n",
       "      <td>12.598013</td>\n",
       "      <td>12.486858</td>\n",
       "      <td>12.523416</td>\n",
       "      <td>12.477411</td>\n",
       "      <td>2.646086e+07</td>\n",
       "    </tr>\n",
       "    <tr>\n",
       "      <th>min</th>\n",
       "      <td>130.070007</td>\n",
       "      <td>132.389999</td>\n",
       "      <td>129.039993</td>\n",
       "      <td>130.059998</td>\n",
       "      <td>129.879593</td>\n",
       "      <td>4.100000e+07</td>\n",
       "    </tr>\n",
       "    <tr>\n",
       "      <th>25%</th>\n",
       "      <td>148.174995</td>\n",
       "      <td>149.689995</td>\n",
       "      <td>146.689995</td>\n",
       "      <td>148.665000</td>\n",
       "      <td>147.896255</td>\n",
       "      <td>6.974820e+07</td>\n",
       "    </tr>\n",
       "    <tr>\n",
       "      <th>50%</th>\n",
       "      <td>159.589996</td>\n",
       "      <td>162.139999</td>\n",
       "      <td>156.720001</td>\n",
       "      <td>159.300003</td>\n",
       "      <td>158.910004</td>\n",
       "      <td>8.277270e+07</td>\n",
       "    </tr>\n",
       "    <tr>\n",
       "      <th>75%</th>\n",
       "      <td>169.385002</td>\n",
       "      <td>171.065002</td>\n",
       "      <td>167.300003</td>\n",
       "      <td>169.060005</td>\n",
       "      <td>168.770233</td>\n",
       "      <td>9.969415e+07</td>\n",
       "    </tr>\n",
       "    <tr>\n",
       "      <th>max</th>\n",
       "      <td>182.630005</td>\n",
       "      <td>182.940002</td>\n",
       "      <td>179.119995</td>\n",
       "      <td>182.009995</td>\n",
       "      <td>181.259918</td>\n",
       "      <td>1.954327e+08</td>\n",
       "    </tr>\n",
       "  </tbody>\n",
       "</table>\n",
       "</div>"
      ],
      "text/plain": [
       "             Open        High         Low       Close   Adj Close  \\\n",
       "count  251.000000  251.000000  251.000000  251.000000  251.000000   \n",
       "mean   158.272550  160.306534  156.423386  158.449522  157.999954   \n",
       "std     12.619554   12.598013   12.486858   12.523416   12.477411   \n",
       "min    130.070007  132.389999  129.039993  130.059998  129.879593   \n",
       "25%    148.174995  149.689995  146.689995  148.665000  147.896255   \n",
       "50%    159.589996  162.139999  156.720001  159.300003  158.910004   \n",
       "75%    169.385002  171.065002  167.300003  169.060005  168.770233   \n",
       "max    182.630005  182.940002  179.119995  182.009995  181.259918   \n",
       "\n",
       "             Volume  \n",
       "count  2.510000e+02  \n",
       "mean   8.839530e+07  \n",
       "std    2.646086e+07  \n",
       "min    4.100000e+07  \n",
       "25%    6.974820e+07  \n",
       "50%    8.277270e+07  \n",
       "75%    9.969415e+07  \n",
       "max    1.954327e+08  "
      ]
     },
     "execution_count": 29,
     "metadata": {},
     "output_type": "execute_result"
    }
   ],
   "source": [
    "df.describe()"
   ]
  },
  {
   "cell_type": "code",
   "execution_count": 30,
   "id": "bde57b04",
   "metadata": {},
   "outputs": [
    {
     "data": {
      "text/html": [
       "<div>\n",
       "<style scoped>\n",
       "    .dataframe tbody tr th:only-of-type {\n",
       "        vertical-align: middle;\n",
       "    }\n",
       "\n",
       "    .dataframe tbody tr th {\n",
       "        vertical-align: top;\n",
       "    }\n",
       "\n",
       "    .dataframe thead th {\n",
       "        text-align: right;\n",
       "    }\n",
       "</style>\n",
       "<table border=\"1\" class=\"dataframe\">\n",
       "  <thead>\n",
       "    <tr style=\"text-align: right;\">\n",
       "      <th></th>\n",
       "      <th>Open</th>\n",
       "      <th>High</th>\n",
       "      <th>Low</th>\n",
       "      <th>Close</th>\n",
       "      <th>Adj Close</th>\n",
       "      <th>Volume</th>\n",
       "    </tr>\n",
       "    <tr>\n",
       "      <th>Date</th>\n",
       "      <th></th>\n",
       "      <th></th>\n",
       "      <th></th>\n",
       "      <th></th>\n",
       "      <th></th>\n",
       "      <th></th>\n",
       "    </tr>\n",
       "  </thead>\n",
       "  <tbody>\n",
       "    <tr>\n",
       "      <th>2021-09-20</th>\n",
       "      <td>143.800003</td>\n",
       "      <td>144.839996</td>\n",
       "      <td>141.270004</td>\n",
       "      <td>142.940002</td>\n",
       "      <td>142.143494</td>\n",
       "      <td>123478900</td>\n",
       "    </tr>\n",
       "    <tr>\n",
       "      <th>2021-09-21</th>\n",
       "      <td>143.929993</td>\n",
       "      <td>144.600006</td>\n",
       "      <td>142.779999</td>\n",
       "      <td>143.429993</td>\n",
       "      <td>142.630737</td>\n",
       "      <td>75834000</td>\n",
       "    </tr>\n",
       "    <tr>\n",
       "      <th>2021-09-22</th>\n",
       "      <td>144.449997</td>\n",
       "      <td>146.429993</td>\n",
       "      <td>143.699997</td>\n",
       "      <td>145.850006</td>\n",
       "      <td>145.037292</td>\n",
       "      <td>76404300</td>\n",
       "    </tr>\n",
       "    <tr>\n",
       "      <th>2021-09-23</th>\n",
       "      <td>146.649994</td>\n",
       "      <td>147.080002</td>\n",
       "      <td>145.639999</td>\n",
       "      <td>146.830002</td>\n",
       "      <td>146.011810</td>\n",
       "      <td>64838200</td>\n",
       "    </tr>\n",
       "    <tr>\n",
       "      <th>2021-09-24</th>\n",
       "      <td>145.660004</td>\n",
       "      <td>147.470001</td>\n",
       "      <td>145.559998</td>\n",
       "      <td>146.919998</td>\n",
       "      <td>146.101318</td>\n",
       "      <td>53477900</td>\n",
       "    </tr>\n",
       "    <tr>\n",
       "      <th>...</th>\n",
       "      <td>...</td>\n",
       "      <td>...</td>\n",
       "      <td>...</td>\n",
       "      <td>...</td>\n",
       "      <td>...</td>\n",
       "      <td>...</td>\n",
       "    </tr>\n",
       "    <tr>\n",
       "      <th>2022-09-12</th>\n",
       "      <td>159.589996</td>\n",
       "      <td>164.259995</td>\n",
       "      <td>159.300003</td>\n",
       "      <td>163.429993</td>\n",
       "      <td>163.429993</td>\n",
       "      <td>104956000</td>\n",
       "    </tr>\n",
       "    <tr>\n",
       "      <th>2022-09-13</th>\n",
       "      <td>159.899994</td>\n",
       "      <td>160.539993</td>\n",
       "      <td>153.369995</td>\n",
       "      <td>153.839996</td>\n",
       "      <td>153.839996</td>\n",
       "      <td>122656600</td>\n",
       "    </tr>\n",
       "    <tr>\n",
       "      <th>2022-09-14</th>\n",
       "      <td>154.789993</td>\n",
       "      <td>157.100006</td>\n",
       "      <td>153.610001</td>\n",
       "      <td>155.309998</td>\n",
       "      <td>155.309998</td>\n",
       "      <td>87965400</td>\n",
       "    </tr>\n",
       "    <tr>\n",
       "      <th>2022-09-15</th>\n",
       "      <td>154.649994</td>\n",
       "      <td>155.240005</td>\n",
       "      <td>151.380005</td>\n",
       "      <td>152.369995</td>\n",
       "      <td>152.369995</td>\n",
       "      <td>90481100</td>\n",
       "    </tr>\n",
       "    <tr>\n",
       "      <th>2022-09-16</th>\n",
       "      <td>151.210007</td>\n",
       "      <td>151.350006</td>\n",
       "      <td>148.369995</td>\n",
       "      <td>150.699997</td>\n",
       "      <td>150.699997</td>\n",
       "      <td>162157000</td>\n",
       "    </tr>\n",
       "  </tbody>\n",
       "</table>\n",
       "<p>251 rows × 6 columns</p>\n",
       "</div>"
      ],
      "text/plain": [
       "                  Open        High         Low       Close   Adj Close  \\\n",
       "Date                                                                     \n",
       "2021-09-20  143.800003  144.839996  141.270004  142.940002  142.143494   \n",
       "2021-09-21  143.929993  144.600006  142.779999  143.429993  142.630737   \n",
       "2021-09-22  144.449997  146.429993  143.699997  145.850006  145.037292   \n",
       "2021-09-23  146.649994  147.080002  145.639999  146.830002  146.011810   \n",
       "2021-09-24  145.660004  147.470001  145.559998  146.919998  146.101318   \n",
       "...                ...         ...         ...         ...         ...   \n",
       "2022-09-12  159.589996  164.259995  159.300003  163.429993  163.429993   \n",
       "2022-09-13  159.899994  160.539993  153.369995  153.839996  153.839996   \n",
       "2022-09-14  154.789993  157.100006  153.610001  155.309998  155.309998   \n",
       "2022-09-15  154.649994  155.240005  151.380005  152.369995  152.369995   \n",
       "2022-09-16  151.210007  151.350006  148.369995  150.699997  150.699997   \n",
       "\n",
       "               Volume  \n",
       "Date                   \n",
       "2021-09-20  123478900  \n",
       "2021-09-21   75834000  \n",
       "2021-09-22   76404300  \n",
       "2021-09-23   64838200  \n",
       "2021-09-24   53477900  \n",
       "...               ...  \n",
       "2022-09-12  104956000  \n",
       "2022-09-13  122656600  \n",
       "2022-09-14   87965400  \n",
       "2022-09-15   90481100  \n",
       "2022-09-16  162157000  \n",
       "\n",
       "[251 rows x 6 columns]"
      ]
     },
     "execution_count": 30,
     "metadata": {},
     "output_type": "execute_result"
    }
   ],
   "source": [
    "df.set_index('Date')"
   ]
  },
  {
   "cell_type": "code",
   "execution_count": 31,
   "id": "095f0014",
   "metadata": {},
   "outputs": [
    {
     "name": "stdout",
     "output_type": "stream",
     "text": [
      "Date         0\n",
      "Open         0\n",
      "High         0\n",
      "Low          0\n",
      "Close        0\n",
      "Adj Close    0\n",
      "Volume       0\n",
      "dtype: int64\n"
     ]
    }
   ],
   "source": [
    "print(df.isnull().sum())"
   ]
  },
  {
   "cell_type": "code",
   "execution_count": null,
   "id": "1dfe9337",
   "metadata": {},
   "outputs": [],
   "source": [
    "#renaming and dropping unwanted columns and duplicates"
   ]
  },
  {
   "cell_type": "code",
   "execution_count": 32,
   "id": "a73de982",
   "metadata": {},
   "outputs": [
    {
     "data": {
      "text/plain": [
       "['Date', 'Open', 'High', 'Low', 'Close', 'Adj Close', 'Volume']"
      ]
     },
     "execution_count": 32,
     "metadata": {},
     "output_type": "execute_result"
    }
   ],
   "source": [
    "list(df)"
   ]
  },
  {
   "cell_type": "code",
   "execution_count": 33,
   "id": "7afd0a81",
   "metadata": {},
   "outputs": [],
   "source": [
    "df.rename(columns={'Volume':'Traded'},inplace=True)"
   ]
  },
  {
   "cell_type": "code",
   "execution_count": 34,
   "id": "6ff1ae44",
   "metadata": {},
   "outputs": [
    {
     "data": {
      "text/plain": [
       "0      142.143494\n",
       "1      142.630737\n",
       "2      145.037292\n",
       "3      146.011810\n",
       "4      146.101318\n",
       "          ...    \n",
       "246    163.429993\n",
       "247    153.839996\n",
       "248    155.309998\n",
       "249    152.369995\n",
       "250    150.699997\n",
       "Name: Adj Close, Length: 251, dtype: float64"
      ]
     },
     "execution_count": 34,
     "metadata": {},
     "output_type": "execute_result"
    }
   ],
   "source": [
    "df.pop('Adj Close')"
   ]
  },
  {
   "cell_type": "code",
   "execution_count": 35,
   "id": "3eb57924",
   "metadata": {},
   "outputs": [],
   "source": [
    "df=df.reset_index(drop = False)"
   ]
  },
  {
   "cell_type": "code",
   "execution_count": 36,
   "id": "ee06ddbb",
   "metadata": {},
   "outputs": [
    {
     "data": {
      "text/html": [
       "<div>\n",
       "<style scoped>\n",
       "    .dataframe tbody tr th:only-of-type {\n",
       "        vertical-align: middle;\n",
       "    }\n",
       "\n",
       "    .dataframe tbody tr th {\n",
       "        vertical-align: top;\n",
       "    }\n",
       "\n",
       "    .dataframe thead th {\n",
       "        text-align: right;\n",
       "    }\n",
       "</style>\n",
       "<table border=\"1\" class=\"dataframe\">\n",
       "  <thead>\n",
       "    <tr style=\"text-align: right;\">\n",
       "      <th></th>\n",
       "      <th>index</th>\n",
       "      <th>Date</th>\n",
       "      <th>Open</th>\n",
       "      <th>High</th>\n",
       "      <th>Low</th>\n",
       "      <th>Close</th>\n",
       "      <th>Traded</th>\n",
       "    </tr>\n",
       "  </thead>\n",
       "  <tbody>\n",
       "    <tr>\n",
       "      <th>0</th>\n",
       "      <td>0</td>\n",
       "      <td>2021-09-20</td>\n",
       "      <td>143.800003</td>\n",
       "      <td>144.839996</td>\n",
       "      <td>141.270004</td>\n",
       "      <td>142.940002</td>\n",
       "      <td>123478900</td>\n",
       "    </tr>\n",
       "    <tr>\n",
       "      <th>1</th>\n",
       "      <td>1</td>\n",
       "      <td>2021-09-21</td>\n",
       "      <td>143.929993</td>\n",
       "      <td>144.600006</td>\n",
       "      <td>142.779999</td>\n",
       "      <td>143.429993</td>\n",
       "      <td>75834000</td>\n",
       "    </tr>\n",
       "    <tr>\n",
       "      <th>2</th>\n",
       "      <td>2</td>\n",
       "      <td>2021-09-22</td>\n",
       "      <td>144.449997</td>\n",
       "      <td>146.429993</td>\n",
       "      <td>143.699997</td>\n",
       "      <td>145.850006</td>\n",
       "      <td>76404300</td>\n",
       "    </tr>\n",
       "    <tr>\n",
       "      <th>3</th>\n",
       "      <td>3</td>\n",
       "      <td>2021-09-23</td>\n",
       "      <td>146.649994</td>\n",
       "      <td>147.080002</td>\n",
       "      <td>145.639999</td>\n",
       "      <td>146.830002</td>\n",
       "      <td>64838200</td>\n",
       "    </tr>\n",
       "    <tr>\n",
       "      <th>4</th>\n",
       "      <td>4</td>\n",
       "      <td>2021-09-24</td>\n",
       "      <td>145.660004</td>\n",
       "      <td>147.470001</td>\n",
       "      <td>145.559998</td>\n",
       "      <td>146.919998</td>\n",
       "      <td>53477900</td>\n",
       "    </tr>\n",
       "    <tr>\n",
       "      <th>...</th>\n",
       "      <td>...</td>\n",
       "      <td>...</td>\n",
       "      <td>...</td>\n",
       "      <td>...</td>\n",
       "      <td>...</td>\n",
       "      <td>...</td>\n",
       "      <td>...</td>\n",
       "    </tr>\n",
       "    <tr>\n",
       "      <th>246</th>\n",
       "      <td>246</td>\n",
       "      <td>2022-09-12</td>\n",
       "      <td>159.589996</td>\n",
       "      <td>164.259995</td>\n",
       "      <td>159.300003</td>\n",
       "      <td>163.429993</td>\n",
       "      <td>104956000</td>\n",
       "    </tr>\n",
       "    <tr>\n",
       "      <th>247</th>\n",
       "      <td>247</td>\n",
       "      <td>2022-09-13</td>\n",
       "      <td>159.899994</td>\n",
       "      <td>160.539993</td>\n",
       "      <td>153.369995</td>\n",
       "      <td>153.839996</td>\n",
       "      <td>122656600</td>\n",
       "    </tr>\n",
       "    <tr>\n",
       "      <th>248</th>\n",
       "      <td>248</td>\n",
       "      <td>2022-09-14</td>\n",
       "      <td>154.789993</td>\n",
       "      <td>157.100006</td>\n",
       "      <td>153.610001</td>\n",
       "      <td>155.309998</td>\n",
       "      <td>87965400</td>\n",
       "    </tr>\n",
       "    <tr>\n",
       "      <th>249</th>\n",
       "      <td>249</td>\n",
       "      <td>2022-09-15</td>\n",
       "      <td>154.649994</td>\n",
       "      <td>155.240005</td>\n",
       "      <td>151.380005</td>\n",
       "      <td>152.369995</td>\n",
       "      <td>90481100</td>\n",
       "    </tr>\n",
       "    <tr>\n",
       "      <th>250</th>\n",
       "      <td>250</td>\n",
       "      <td>2022-09-16</td>\n",
       "      <td>151.210007</td>\n",
       "      <td>151.350006</td>\n",
       "      <td>148.369995</td>\n",
       "      <td>150.699997</td>\n",
       "      <td>162157000</td>\n",
       "    </tr>\n",
       "  </tbody>\n",
       "</table>\n",
       "<p>251 rows × 7 columns</p>\n",
       "</div>"
      ],
      "text/plain": [
       "     index        Date        Open        High         Low       Close  \\\n",
       "0        0  2021-09-20  143.800003  144.839996  141.270004  142.940002   \n",
       "1        1  2021-09-21  143.929993  144.600006  142.779999  143.429993   \n",
       "2        2  2021-09-22  144.449997  146.429993  143.699997  145.850006   \n",
       "3        3  2021-09-23  146.649994  147.080002  145.639999  146.830002   \n",
       "4        4  2021-09-24  145.660004  147.470001  145.559998  146.919998   \n",
       "..     ...         ...         ...         ...         ...         ...   \n",
       "246    246  2022-09-12  159.589996  164.259995  159.300003  163.429993   \n",
       "247    247  2022-09-13  159.899994  160.539993  153.369995  153.839996   \n",
       "248    248  2022-09-14  154.789993  157.100006  153.610001  155.309998   \n",
       "249    249  2022-09-15  154.649994  155.240005  151.380005  152.369995   \n",
       "250    250  2022-09-16  151.210007  151.350006  148.369995  150.699997   \n",
       "\n",
       "        Traded  \n",
       "0    123478900  \n",
       "1     75834000  \n",
       "2     76404300  \n",
       "3     64838200  \n",
       "4     53477900  \n",
       "..         ...  \n",
       "246  104956000  \n",
       "247  122656600  \n",
       "248   87965400  \n",
       "249   90481100  \n",
       "250  162157000  \n",
       "\n",
       "[251 rows x 7 columns]"
      ]
     },
     "execution_count": 36,
     "metadata": {},
     "output_type": "execute_result"
    }
   ],
   "source": [
    "df.drop_duplicates()"
   ]
  },
  {
   "cell_type": "code",
   "execution_count": 37,
   "id": "5d2a540d",
   "metadata": {},
   "outputs": [],
   "source": [
    "#plotting and displaying the plot in the notebook"
   ]
  },
  {
   "cell_type": "code",
   "execution_count": 38,
   "id": "b11a04ca",
   "metadata": {},
   "outputs": [
    {
     "name": "stdout",
     "output_type": "stream",
     "text": [
      "Using matplotlib backend: <object object at 0x7fcc80b14410>\n"
     ]
    }
   ],
   "source": [
    "%matplotlib"
   ]
  },
  {
   "cell_type": "code",
   "execution_count": 39,
   "id": "68f39aa8",
   "metadata": {},
   "outputs": [],
   "source": [
    "%matplotlib inline"
   ]
  },
  {
   "cell_type": "code",
   "execution_count": 40,
   "id": "f7ad11c1",
   "metadata": {},
   "outputs": [
    {
     "data": {
      "text/plain": [
       "<Figure size 640x480 with 0 Axes>"
      ]
     },
     "execution_count": 40,
     "metadata": {},
     "output_type": "execute_result"
    },
    {
     "data": {
      "text/plain": [
       "<Figure size 640x480 with 0 Axes>"
      ]
     },
     "metadata": {},
     "output_type": "display_data"
    }
   ],
   "source": [
    "plt.figure(figsize=(8,6),dpi=80)"
   ]
  },
  {
   "cell_type": "code",
   "execution_count": 41,
   "id": "2f8bbe12",
   "metadata": {},
   "outputs": [
    {
     "data": {
      "text/plain": [
       "<AxesSubplot:xlabel='Date'>"
      ]
     },
     "execution_count": 41,
     "metadata": {},
     "output_type": "execute_result"
    },
    {
     "data": {
      "image/png": "[encoded data removed]",
      "text/plain": [
       "<Figure size 432x288 with 1 Axes>"
      ]
     },
     "metadata": {
      "needs_background": "light"
     },
     "output_type": "display_data"
    }
   ],
   "source": [
    "df.plot(x=\"Date\",y=[\"High\",\"Low\"])"
   ]
  },
  {
   "cell_type": "code",
   "execution_count": 42,
   "id": "e4cab1e5",
   "metadata": {},
   "outputs": [
    {
     "data": {
      "text/plain": [
       "<AxesSubplot:xlabel='Date'>"
      ]
     },
     "execution_count": 42,
     "metadata": {},
     "output_type": "execute_result"
    },
    {
     "data": {
      "image/png": "[encoded data removed]",
      "text/plain": [
       "<Figure size 432x288 with 1 Axes>"
      ]
     },
     "metadata": {
      "needs_background": "light"
     },
     "output_type": "display_data"
    }
   ],
   "source": [
    "df.plot(x=\"Date\",y=\"Traded\")"
   ]
  },
  {
   "cell_type": "code",
   "execution_count": 43,
   "id": "56c6e88c",
   "metadata": {},
   "outputs": [
    {
     "data": {
      "text/plain": [
       "<Figure size 640x480 with 0 Axes>"
      ]
     },
     "execution_count": 43,
     "metadata": {},
     "output_type": "execute_result"
    },
    {
     "data": {
      "text/plain": [
       "<Figure size 640x480 with 0 Axes>"
      ]
     },
     "metadata": {},
     "output_type": "display_data"
    }
   ],
   "source": [
    "plt.figure(figsize=(8, 6),dpi = 80)"
   ]
  },
  {
   "cell_type": "code",
   "execution_count": 44,
   "id": "39d2f2b0",
   "metadata": {},
   "outputs": [],
   "source": [
    "moving_avg_100=df['Close'].rolling(window=100).mean()"
   ]
  },
  {
   "cell_type": "code",
   "execution_count": 45,
   "id": "a9a20b7f",
   "metadata": {},
   "outputs": [],
   "source": [
    "moving_avg_50=df['Close'].rolling(window=50).mean()"
   ]
  },
  {
   "cell_type": "code",
   "execution_count": 46,
   "id": "a0678b6c",
   "metadata": {},
   "outputs": [
    {
     "data": {
      "text/plain": [
       "<AxesSubplot:>"
      ]
     },
     "execution_count": 46,
     "metadata": {},
     "output_type": "execute_result"
    },
    {
     "data": {
      "image/png": "[encoded data removed]",
      "text/plain": [
       "<Figure size 432x288 with 1 Axes>"
      ]
     },
     "metadata": {
      "needs_background": "light"
     },
     "output_type": "display_data"
    }
   ],
   "source": [
    "df['Close'].plot(label='APPL')"
   ]
  },
  {
   "cell_type": "code",
   "execution_count": 47,
   "id": "58ef4083",
   "metadata": {},
   "outputs": [
    {
     "data": {
      "text/plain": [
       "<AxesSubplot:>"
      ]
     },
     "execution_count": 47,
     "metadata": {},
     "output_type": "execute_result"
    },
    {
     "data": {
      "image/png": "[encoded data removed]",
      "text/plain": [
       "<Figure size 432x288 with 1 Axes>"
      ]
     },
     "metadata": {
      "needs_background": "light"
     },
     "output_type": "display_data"
    }
   ],
   "source": [
    "moving_avg_100.plot(label='Moving Avg 100')"
   ]
  },
  {
   "cell_type": "code",
   "execution_count": 48,
   "id": "ddae6c4a",
   "metadata": {},
   "outputs": [
    {
     "data": {
      "text/plain": [
       "<AxesSubplot:>"
      ]
     },
     "execution_count": 48,
     "metadata": {},
     "output_type": "execute_result"
    },
    {
     "data": {
      "image/png": "[encoded data removed]",
      "text/plain": [
       "<Figure size 432x288 with 1 Axes>"
      ]
     },
     "metadata": {
      "needs_background": "light"
     },
     "output_type": "display_data"
    }
   ],
   "source": [
    "moving_avg_50.plot(label='Moving Avg 50')"
   ]
  },
  {
   "cell_type": "code",
   "execution_count": 49,
   "id": "36e47fb0",
   "metadata": {},
   "outputs": [],
   "source": [
    "top_5=df.sort_values(by=\"High\",ascending=True).head()"
   ]
  },
  {
   "cell_type": "code",
   "execution_count": 50,
   "id": "64a4cf9f",
   "metadata": {},
   "outputs": [
    {
     "data": {
      "text/plain": [
       "<AxesSubplot:xlabel='High', ylabel='Date'>"
      ]
     },
     "execution_count": 50,
     "metadata": {},
     "output_type": "execute_result"
    },
    {
     "data": {
      "image/png": "[encoded data removed]",
      "text/plain": [
       "<Figure size 432x288 with 1 Axes>"
      ]
     },
     "metadata": {
      "needs_background": "light"
     },
     "output_type": "display_data"
    }
   ],
   "source": [
    "top_5.plot(x=\"High\",y=\"Date\",kind=\"scatter\",rot=6,fontsize=8)"
   ]
  },
  {
   "cell_type": "code",
   "execution_count": 51,
   "id": "4f96a597",
   "metadata": {},
   "outputs": [],
   "source": [
    "top_5=df.sort_values(by=\"Low\",ascending=False).head()"
   ]
  },
  {
   "cell_type": "code",
   "execution_count": 52,
   "id": "6e97930f",
   "metadata": {},
   "outputs": [
    {
     "data": {
      "text/plain": [
       "<AxesSubplot:xlabel='Low', ylabel='Date'>"
      ]
     },
     "execution_count": 52,
     "metadata": {},
     "output_type": "execute_result"
    },
    {
     "data": {
      "image/png": "[encoded data removed]",
      "text/plain": [
       "<Figure size 432x288 with 1 Axes>"
      ]
     },
     "metadata": {
      "needs_background": "light"
     },
     "output_type": "display_data"
    }
   ],
   "source": [
    "top_5.plot(x=\"Low\",y=\"Date\",kind=\"scatter\",rot=6,fontsize=8)"
   ]
  },
  {
   "cell_type": "code",
   "execution_count": 53,
   "id": "370e309d",
   "metadata": {},
   "outputs": [],
   "source": [
    "# grouping data histogram"
   ]
  },
  {
   "cell_type": "code",
   "execution_count": 54,
   "id": "d26d142d",
   "metadata": {},
   "outputs": [],
   "source": [
    "median_column=df[\"Traded\"]"
   ]
  },
  {
   "cell_type": "code",
   "execution_count": 55,
   "id": "ef85d8fa",
   "metadata": {},
   "outputs": [
    {
     "data": {
      "text/plain": [
       "pandas.core.series.Series"
      ]
     },
     "execution_count": 55,
     "metadata": {},
     "output_type": "execute_result"
    }
   ],
   "source": [
    "type(median_column)"
   ]
  },
  {
   "cell_type": "code",
   "execution_count": 56,
   "id": "cfd604e7",
   "metadata": {},
   "outputs": [
    {
     "data": {
      "text/plain": [
       "<AxesSubplot:ylabel='Frequency'>"
      ]
     },
     "execution_count": 56,
     "metadata": {},
     "output_type": "execute_result"
    },
    {
     "data": {
      "image/png": "[encoded data removed]",
      "text/plain": [
       "<Figure size 432x288 with 1 Axes>"
      ]
     },
     "metadata": {
      "needs_background": "light"
     },
     "output_type": "display_data"
    }
   ],
   "source": [
    "median_column.plot(kind=\"hist\")"
   ]
  },
  {
   "cell_type": "code",
   "execution_count": null,
   "id": "0814c144",
   "metadata": {},
   "outputs": [],
   "source": []
  }
 ],
 "metadata": {
  "kernelspec": {
   "display_name": "Python 3 (ipykernel)",
   "language": "python",
   "name": "python3"
  },
  "language_info": {
   "codemirror_mode": {
    "name": "ipython",
    "version": 3
   },
   "file_extension": ".py",
   "mimetype": "text/x-python",
   "name": "python",
   "nbconvert_exporter": "python",
   "pygments_lexer": "ipython3",
   "version": "3.9.12"
  }
 },
 "nbformat": 4,
 "nbformat_minor": 5
}
